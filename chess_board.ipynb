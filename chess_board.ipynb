{
 "cells": [
  {
   "cell_type": "markdown",
   "source": [
    "# Numpy Arrays - ChessBoard "
   ],
   "metadata": {}
  },
  {
   "cell_type": "code",
   "execution_count": null,
   "source": [
    "import numpy as np\n",
    "import matplotlib.pyplot as plt \n"
   ],
   "outputs": [],
   "metadata": {}
  },
  {
   "cell_type": "code",
   "execution_count": null,
   "source": [
    "class ChessBoard:\n",
    "    def __init__(self):\n",
    "        self.grid = np.zeros((8,8,3))\n",
    "        white = (1,1,1)\n",
    "        rows = range(8)\n",
    "        for row in rows:\n",
    "            if row % 2 == 0: \n",
    "                for i in range(0,8,2):\n",
    "                    self.grid[row,i] = white\n",
    "            else:\n",
    "                for i in range(1,8,2):\n",
    "                    self.grid[row,i] = white\n",
    "\n",
    "    def add_red(self, row, column):\n",
    "        red = (1,2,0)\n",
    "        self.red_row = row\n",
    "        self.red_colum = column\n",
    "        self.grid[row, column] = red\n",
    "\n",
    "    def add_blue(self, row, column):\n",
    "        blue = (0,1,1)\n",
    "        self.blue_row = row\n",
    "        self.blue_colum = column\n",
    "        self.grid[row, column] = blue\n",
    "\n",
    "    def render(self):\n",
    "        plt.imshow(self.grid)\n",
    "\n",
    "    def is_under_attack(self):\n",
    "        if  self.red_row == self.blue_row:\n",
    "            return True\n",
    "        elif self.red_colum == self.blue_colum: \n",
    "            return True\n",
    "        elif abs(self.red_row - self.blue_row) == abs(self.red_colum - self.blue_colum):\n",
    "            return True\n",
    "        else: \n",
    "            return False \n"
   ],
   "outputs": [],
   "metadata": {}
  },
  {
   "cell_type": "code",
   "execution_count": null,
   "source": [
    "Chess_Board = ChessBoard()\n",
    "Chess_Board.add_red(4,3)\n",
    "Chess_Board.add_blue(2,5) \n"
   ],
   "outputs": [],
   "metadata": {}
  },
  {
   "cell_type": "code",
   "execution_count": null,
   "source": [
    "Chess_Board.render() "
   ],
   "outputs": [],
   "metadata": {}
  }
 ],
 "metadata": {
  "orig_nbformat": 4,
  "language_info": {
   "name": "python",
   "version": "3.9.6"
  },
  "kernelspec": {
   "name": "python3",
   "display_name": "Python 3.9.6 64-bit ('.venv': poetry)"
  },
  "interpreter": {
   "hash": "40302a7b4a2fdd9b3bc010b74cd632c34ebf73121790587a158d644065350a4f"
  }
 },
 "nbformat": 4,
 "nbformat_minor": 2
}